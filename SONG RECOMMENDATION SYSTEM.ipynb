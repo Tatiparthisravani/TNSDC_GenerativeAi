{
  "nbformat": 4,
  "nbformat_minor": 0,
  "metadata": {
    "colab": {
      "provenance": []
    },
    "kernelspec": {
      "name": "python3",
      "display_name": "Python 3"
    },
    "language_info": {
      "name": "python"
    }
  },
  "cells": [
    {
      "cell_type": "code",
      "execution_count": 1,
      "metadata": {
        "colab": {
          "base_uri": "https://localhost:8080/"
        },
        "id": "mfjAywJBAV95",
        "outputId": "2bbd6114-6f22-4d9e-ea22-8ca8c4b98a12"
      },
      "outputs": [
        {
          "output_type": "stream",
          "name": "stdout",
          "text": [
            "Enter your mood: happy\n",
            "Recommended Songs:\n",
            "     song_name        artist\n",
            "0   Happy Song  Happy Artist\n",
            "7  Upbeat Song   Upbeat Band\n"
          ]
        }
      ],
      "source": [
        "import pandas as pd\n",
        "\n",
        "# Load the dataset\n",
        "# Replace 'songs.csv' with the path to your dataset\n",
        "df = pd.read_csv('/content/songs.csv')\n",
        "\n",
        "def recommend_songs_by_mood(mood):\n",
        "    \"\"\"\n",
        "    Recommend songs based on mood.\n",
        "\n",
        "    Parameters:\n",
        "        mood (str): Mood for song recommendation.\n",
        "\n",
        "    Returns:\n",
        "        list: List of recommended songs.\n",
        "    \"\"\"\n",
        "    # Filter songs by mood\n",
        "    mood_songs = df[df['mood'] == mood]\n",
        "\n",
        "    if mood_songs.empty:\n",
        "        return \"No songs found for the given mood.\"\n",
        "    else:\n",
        "        return mood_songs[['song_name', 'artist']]\n",
        "\n",
        "# Example usage:\n",
        "mood = input(\"Enter your mood: \")\n",
        "recommended_songs = recommend_songs_by_mood(mood)\n",
        "print(\"Recommended Songs:\")\n",
        "print(recommended_songs)\n"
      ]
    }
  ]
}